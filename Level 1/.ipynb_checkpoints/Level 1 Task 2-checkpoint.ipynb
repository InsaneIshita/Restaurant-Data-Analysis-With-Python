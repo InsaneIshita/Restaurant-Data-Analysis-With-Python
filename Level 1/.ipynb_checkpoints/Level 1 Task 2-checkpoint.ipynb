{
 "cells": [
  {
   "cell_type": "markdown",
   "id": "a746e896-e8d3-4798-a06b-82d6d7abd1f8",
   "metadata": {},
   "source": [
    "# Level 1"
   ]
  },
  {
   "cell_type": "markdown",
   "id": "77e97449-6f35-40ef-a5ab-f8ba837b2f0a",
   "metadata": {},
   "source": [
    "## Task 2 : City Analysis"
   ]
  },
  {
   "cell_type": "markdown",
   "id": "f1434872-91ee-4f73-acba-1748df5b5fa0",
   "metadata": {},
   "source": [
    "* Identify the city with the highest number of restaurants in the dataset.\n",
    "* Calculate the average rating for restaurants in each city.\n",
    "* Determine the city with the highest average rating."
   ]
  },
  {
   "cell_type": "markdown",
   "id": "5c257a8a-5b8b-4fac-a08e-276ca045702a",
   "metadata": {},
   "source": [
    "### Loading necessary libraries"
   ]
  },
  {
   "cell_type": "code",
   "execution_count": 1,
   "id": "de94fe71-d0d3-4077-85e4-1ef1daa011bf",
   "metadata": {},
   "outputs": [],
   "source": [
    "import numpy as np\n",
    "import pandas as pd\n",
    "import matplotlib.pyplot as plt\n",
    "import seaborn as sns"
   ]
  },
  {
   "cell_type": "markdown",
   "id": "f87cb4b8-5491-46ff-8c63-dc8ed0ffe78f",
   "metadata": {},
   "source": [
    "### Loading the dataset"
   ]
  },
  {
   "cell_type": "code",
   "execution_count": 2,
   "id": "6896771e-699d-4d04-a914-2cbf5016b020",
   "metadata": {},
   "outputs": [
    {
     "data": {
      "text/html": [
       "<div>\n",
       "<style scoped>\n",
       "    .dataframe tbody tr th:only-of-type {\n",
       "        vertical-align: middle;\n",
       "    }\n",
       "\n",
       "    .dataframe tbody tr th {\n",
       "        vertical-align: top;\n",
       "    }\n",
       "\n",
       "    .dataframe thead th {\n",
       "        text-align: right;\n",
       "    }\n",
       "</style>\n",
       "<table border=\"1\" class=\"dataframe\">\n",
       "  <thead>\n",
       "    <tr style=\"text-align: right;\">\n",
       "      <th></th>\n",
       "      <th>Restaurant ID</th>\n",
       "      <th>Restaurant Name</th>\n",
       "      <th>Country Code</th>\n",
       "      <th>City</th>\n",
       "      <th>Address</th>\n",
       "      <th>Locality</th>\n",
       "      <th>Locality Verbose</th>\n",
       "      <th>Longitude</th>\n",
       "      <th>Latitude</th>\n",
       "      <th>Cuisines</th>\n",
       "      <th>...</th>\n",
       "      <th>Currency</th>\n",
       "      <th>Has Table booking</th>\n",
       "      <th>Has Online delivery</th>\n",
       "      <th>Is delivering now</th>\n",
       "      <th>Switch to order menu</th>\n",
       "      <th>Price range</th>\n",
       "      <th>Aggregate rating</th>\n",
       "      <th>Rating color</th>\n",
       "      <th>Rating text</th>\n",
       "      <th>Votes</th>\n",
       "    </tr>\n",
       "  </thead>\n",
       "  <tbody>\n",
       "    <tr>\n",
       "      <th>0</th>\n",
       "      <td>6317637</td>\n",
       "      <td>Le Petit Souffle</td>\n",
       "      <td>162</td>\n",
       "      <td>Makati City</td>\n",
       "      <td>Third Floor, Century City Mall, Kalayaan Avenu...</td>\n",
       "      <td>Century City Mall, Poblacion, Makati City</td>\n",
       "      <td>Century City Mall, Poblacion, Makati City, Mak...</td>\n",
       "      <td>121.027535</td>\n",
       "      <td>14.565443</td>\n",
       "      <td>French, Japanese, Desserts</td>\n",
       "      <td>...</td>\n",
       "      <td>Botswana Pula(P)</td>\n",
       "      <td>Yes</td>\n",
       "      <td>No</td>\n",
       "      <td>No</td>\n",
       "      <td>No</td>\n",
       "      <td>3</td>\n",
       "      <td>4.8</td>\n",
       "      <td>Dark Green</td>\n",
       "      <td>Excellent</td>\n",
       "      <td>314</td>\n",
       "    </tr>\n",
       "    <tr>\n",
       "      <th>1</th>\n",
       "      <td>6304287</td>\n",
       "      <td>Izakaya Kikufuji</td>\n",
       "      <td>162</td>\n",
       "      <td>Makati City</td>\n",
       "      <td>Little Tokyo, 2277 Chino Roces Avenue, Legaspi...</td>\n",
       "      <td>Little Tokyo, Legaspi Village, Makati City</td>\n",
       "      <td>Little Tokyo, Legaspi Village, Makati City, Ma...</td>\n",
       "      <td>121.014101</td>\n",
       "      <td>14.553708</td>\n",
       "      <td>Japanese</td>\n",
       "      <td>...</td>\n",
       "      <td>Botswana Pula(P)</td>\n",
       "      <td>Yes</td>\n",
       "      <td>No</td>\n",
       "      <td>No</td>\n",
       "      <td>No</td>\n",
       "      <td>3</td>\n",
       "      <td>4.5</td>\n",
       "      <td>Dark Green</td>\n",
       "      <td>Excellent</td>\n",
       "      <td>591</td>\n",
       "    </tr>\n",
       "    <tr>\n",
       "      <th>2</th>\n",
       "      <td>6300002</td>\n",
       "      <td>Heat - Edsa Shangri-La</td>\n",
       "      <td>162</td>\n",
       "      <td>Mandaluyong City</td>\n",
       "      <td>Edsa Shangri-La, 1 Garden Way, Ortigas, Mandal...</td>\n",
       "      <td>Edsa Shangri-La, Ortigas, Mandaluyong City</td>\n",
       "      <td>Edsa Shangri-La, Ortigas, Mandaluyong City, Ma...</td>\n",
       "      <td>121.056831</td>\n",
       "      <td>14.581404</td>\n",
       "      <td>Seafood, Asian, Filipino, Indian</td>\n",
       "      <td>...</td>\n",
       "      <td>Botswana Pula(P)</td>\n",
       "      <td>Yes</td>\n",
       "      <td>No</td>\n",
       "      <td>No</td>\n",
       "      <td>No</td>\n",
       "      <td>4</td>\n",
       "      <td>4.4</td>\n",
       "      <td>Green</td>\n",
       "      <td>Very Good</td>\n",
       "      <td>270</td>\n",
       "    </tr>\n",
       "    <tr>\n",
       "      <th>3</th>\n",
       "      <td>6318506</td>\n",
       "      <td>Ooma</td>\n",
       "      <td>162</td>\n",
       "      <td>Mandaluyong City</td>\n",
       "      <td>Third Floor, Mega Fashion Hall, SM Megamall, O...</td>\n",
       "      <td>SM Megamall, Ortigas, Mandaluyong City</td>\n",
       "      <td>SM Megamall, Ortigas, Mandaluyong City, Mandal...</td>\n",
       "      <td>121.056475</td>\n",
       "      <td>14.585318</td>\n",
       "      <td>Japanese, Sushi</td>\n",
       "      <td>...</td>\n",
       "      <td>Botswana Pula(P)</td>\n",
       "      <td>No</td>\n",
       "      <td>No</td>\n",
       "      <td>No</td>\n",
       "      <td>No</td>\n",
       "      <td>4</td>\n",
       "      <td>4.9</td>\n",
       "      <td>Dark Green</td>\n",
       "      <td>Excellent</td>\n",
       "      <td>365</td>\n",
       "    </tr>\n",
       "    <tr>\n",
       "      <th>4</th>\n",
       "      <td>6314302</td>\n",
       "      <td>Sambo Kojin</td>\n",
       "      <td>162</td>\n",
       "      <td>Mandaluyong City</td>\n",
       "      <td>Third Floor, Mega Atrium, SM Megamall, Ortigas...</td>\n",
       "      <td>SM Megamall, Ortigas, Mandaluyong City</td>\n",
       "      <td>SM Megamall, Ortigas, Mandaluyong City, Mandal...</td>\n",
       "      <td>121.057508</td>\n",
       "      <td>14.584450</td>\n",
       "      <td>Japanese, Korean</td>\n",
       "      <td>...</td>\n",
       "      <td>Botswana Pula(P)</td>\n",
       "      <td>Yes</td>\n",
       "      <td>No</td>\n",
       "      <td>No</td>\n",
       "      <td>No</td>\n",
       "      <td>4</td>\n",
       "      <td>4.8</td>\n",
       "      <td>Dark Green</td>\n",
       "      <td>Excellent</td>\n",
       "      <td>229</td>\n",
       "    </tr>\n",
       "  </tbody>\n",
       "</table>\n",
       "<p>5 rows × 21 columns</p>\n",
       "</div>"
      ],
      "text/plain": [
       "   Restaurant ID         Restaurant Name  Country Code              City  \\\n",
       "0        6317637        Le Petit Souffle           162       Makati City   \n",
       "1        6304287        Izakaya Kikufuji           162       Makati City   \n",
       "2        6300002  Heat - Edsa Shangri-La           162  Mandaluyong City   \n",
       "3        6318506                    Ooma           162  Mandaluyong City   \n",
       "4        6314302             Sambo Kojin           162  Mandaluyong City   \n",
       "\n",
       "                                             Address  \\\n",
       "0  Third Floor, Century City Mall, Kalayaan Avenu...   \n",
       "1  Little Tokyo, 2277 Chino Roces Avenue, Legaspi...   \n",
       "2  Edsa Shangri-La, 1 Garden Way, Ortigas, Mandal...   \n",
       "3  Third Floor, Mega Fashion Hall, SM Megamall, O...   \n",
       "4  Third Floor, Mega Atrium, SM Megamall, Ortigas...   \n",
       "\n",
       "                                     Locality  \\\n",
       "0   Century City Mall, Poblacion, Makati City   \n",
       "1  Little Tokyo, Legaspi Village, Makati City   \n",
       "2  Edsa Shangri-La, Ortigas, Mandaluyong City   \n",
       "3      SM Megamall, Ortigas, Mandaluyong City   \n",
       "4      SM Megamall, Ortigas, Mandaluyong City   \n",
       "\n",
       "                                    Locality Verbose   Longitude   Latitude  \\\n",
       "0  Century City Mall, Poblacion, Makati City, Mak...  121.027535  14.565443   \n",
       "1  Little Tokyo, Legaspi Village, Makati City, Ma...  121.014101  14.553708   \n",
       "2  Edsa Shangri-La, Ortigas, Mandaluyong City, Ma...  121.056831  14.581404   \n",
       "3  SM Megamall, Ortigas, Mandaluyong City, Mandal...  121.056475  14.585318   \n",
       "4  SM Megamall, Ortigas, Mandaluyong City, Mandal...  121.057508  14.584450   \n",
       "\n",
       "                           Cuisines  ...          Currency Has Table booking  \\\n",
       "0        French, Japanese, Desserts  ...  Botswana Pula(P)               Yes   \n",
       "1                          Japanese  ...  Botswana Pula(P)               Yes   \n",
       "2  Seafood, Asian, Filipino, Indian  ...  Botswana Pula(P)               Yes   \n",
       "3                   Japanese, Sushi  ...  Botswana Pula(P)                No   \n",
       "4                  Japanese, Korean  ...  Botswana Pula(P)               Yes   \n",
       "\n",
       "  Has Online delivery Is delivering now Switch to order menu Price range  \\\n",
       "0                  No                No                   No           3   \n",
       "1                  No                No                   No           3   \n",
       "2                  No                No                   No           4   \n",
       "3                  No                No                   No           4   \n",
       "4                  No                No                   No           4   \n",
       "\n",
       "   Aggregate rating  Rating color Rating text Votes  \n",
       "0               4.8    Dark Green   Excellent   314  \n",
       "1               4.5    Dark Green   Excellent   591  \n",
       "2               4.4         Green   Very Good   270  \n",
       "3               4.9    Dark Green   Excellent   365  \n",
       "4               4.8    Dark Green   Excellent   229  \n",
       "\n",
       "[5 rows x 21 columns]"
      ]
     },
     "execution_count": 2,
     "metadata": {},
     "output_type": "execute_result"
    }
   ],
   "source": [
    "#loaded the dataset from Google Drive shared folder\n",
    "url = \"https://drive.google.com/uc?export=download&id=1dKZxapT3xLzOTOpy1LCyqctL8YEvzp4Y\"\n",
    "df = pd.read_csv(url)\n",
    "\n",
    "#previewing first few rows of the dataset\n",
    "df.head()"
   ]
  },
  {
   "cell_type": "code",
   "execution_count": 3,
   "id": "2778560c-896c-4f49-bfbf-d78cc21ce237",
   "metadata": {},
   "outputs": [
    {
     "data": {
      "text/plain": [
       "(9551, 21)"
      ]
     },
     "execution_count": 3,
     "metadata": {},
     "output_type": "execute_result"
    }
   ],
   "source": [
    "#Checking the number of rows and columns\n",
    "df.shape"
   ]
  },
  {
   "cell_type": "markdown",
   "id": "a0d69133-20a8-4c96-865a-5a137bbf9f20",
   "metadata": {},
   "source": [
    "### Finding the citywise count of restaurants"
   ]
  },
  {
   "cell_type": "code",
   "execution_count": 4,
   "id": "94f9858b-d38d-4a26-8a72-6d288642830b",
   "metadata": {},
   "outputs": [
    {
     "name": "stdout",
     "output_type": "stream",
     "text": [
      "                  Number of Restaurants\n",
      "City                                   \n",
      "New Delhi                          5473\n",
      "Gurgaon                            1118\n",
      "Noida                              1080\n",
      "Faridabad                           251\n",
      "Ghaziabad                            25\n",
      "...                                 ...\n",
      "Trentham East                         1\n",
      "Weirton                               1\n",
      "Vineland Station                      1\n",
      "Winchester Bay                        1\n",
      "Yorkton                               1\n",
      "\n",
      "[141 rows x 1 columns]\n"
     ]
    }
   ],
   "source": [
    "#determining number of restaurants per city using groupby method\n",
    "restaurants_per_city = df.groupby(df[\"City\"]).agg({\"Restaurant ID\":\"count\"})\n",
    "\n",
    "#renaming the column\n",
    "restaurants_per_city = restaurants_per_city.rename(columns={\"Restaurant ID\":\"Number of Restaurants\"})\n",
    "\n",
    "#sorting the number of restaurants in descending order\n",
    "restaurants_per_city = restaurants_per_city.sort_values(by='Number of Restaurants', ascending=False)\n",
    "\n",
    "print(restaurants_per_city)"
   ]
  },
  {
   "cell_type": "markdown",
   "id": "d13964f6-2139-4450-ae8a-ea95ff4ab7a2",
   "metadata": {},
   "source": [
    "### Identifying the city with the highest number of restaurants"
   ]
  },
  {
   "cell_type": "code",
   "execution_count": 5,
   "id": "5ed3b0ff-b72c-475d-bb1e-427d817b4656",
   "metadata": {},
   "outputs": [
    {
     "name": "stdout",
     "output_type": "stream",
     "text": [
      "City with highest number of restaurants: \n",
      "\n",
      "            Number of Restaurants\n",
      "City                            \n",
      "New Delhi                   5473\n"
     ]
    }
   ],
   "source": [
    "highest_restuarants_city = restaurants_per_city.head(1)\n",
    "\n",
    "print(\"City with highest number of restaurants: \\n\\n\", highest_restuarants_city)"
   ]
  },
  {
   "cell_type": "markdown",
   "id": "c47f61fe-0ab3-426f-86af-930ac88a123b",
   "metadata": {},
   "source": [
    "### Calculating average ratings of restaurants in each city"
   ]
  },
  {
   "cell_type": "code",
   "execution_count": 6,
   "id": "36c37c50-defd-4156-b208-926a42b99712",
   "metadata": {},
   "outputs": [
    {
     "name": "stdout",
     "output_type": "stream",
     "text": [
      "Average rating of restaurants in each city :\n",
      "\n",
      "              Average rating\n",
      "City                       \n",
      "Inner City              4.9\n",
      "Quezon City             4.8\n",
      "Makati City             4.6\n",
      "Beechworth              4.6\n",
      "Pasig City              4.6\n",
      "...                     ...\n",
      "New Delhi               2.4\n",
      "Mc Millan               2.4\n",
      "Montville               2.4\n",
      "Noida                   2.0\n",
      "Faridabad               1.9\n",
      "\n",
      "[141 rows x 1 columns]\n"
     ]
    }
   ],
   "source": [
    "#finding average rating of restaurants per city using groupby method\n",
    "avgrating_per_city = df.groupby(df[\"City\"]).agg({\"Aggregate rating\":\"mean\"})\n",
    "\n",
    "#renaming the column\n",
    "avgrating_per_city = avgrating_per_city.rename(columns = {\"Aggregate rating\" : \"Average rating\"})\n",
    "\n",
    "#keeping the ratings upto 1 decimal place\n",
    "avgrating_per_city['Average rating'] = avgrating_per_city['Average rating'].round(1)\n",
    "\n",
    "#sorting the average rating in descending order \n",
    "avgrating_per_city = avgrating_per_city.sort_values(\"Average rating\" , ascending = False)\n",
    "\n",
    "print(\"Average rating of restaurants in each city :\\n\\n\" ,avgrating_per_city)"
   ]
  },
  {
   "cell_type": "markdown",
   "id": "7e947197-85c2-4056-b84c-55612ffea71d",
   "metadata": {},
   "source": [
    "### Determining the city with highest average rating"
   ]
  },
  {
   "cell_type": "code",
   "execution_count": 7,
   "id": "ba9aad8a-36bd-496c-858d-a659fbc3ba42",
   "metadata": {},
   "outputs": [
    {
     "name": "stdout",
     "output_type": "stream",
     "text": [
      "City with highest average rating of restaurants :\n",
      "\n",
      "             Average rating\n",
      "City                      \n",
      "Inner City             4.9\n"
     ]
    }
   ],
   "source": [
    "highest_rating_city = avgrating_per_city.head(1)\n",
    "print(\"City with highest average rating of restaurants :\\n\\n\" , highest_rating_city)"
   ]
  },
  {
   "cell_type": "markdown",
   "id": "53f79244-023d-48ab-b432-3ecf03cecdc7",
   "metadata": {},
   "source": [
    "### Visualizing using Horizontal Bar Chart"
   ]
  },
  {
   "cell_type": "code",
   "execution_count": 82,
   "id": "c99861c7-ae19-4376-85c0-2a7cbecc8e8e",
   "metadata": {},
   "outputs": [
    {
     "name": "stdout",
     "output_type": "stream",
     "text": [
      "                  Average rating\n",
      "City                            \n",
      "Inner City                   4.9\n",
      "Quezon City                  4.8\n",
      "Makati City                  4.6\n",
      "Beechworth                   4.6\n",
      "Pasig City                   4.6\n",
      "Mandaluyong City             4.6\n",
      "London                       4.5\n",
      "Lincoln                      4.5\n",
      "Secunderabad                 4.5\n",
      "Taguig City                  4.5\n"
     ]
    },
    {
     "data": {
      "image/png": "[encoded data removed]",
      "text/plain": [
       "<Figure size 800x600 with 1 Axes>"
      ]
     },
     "metadata": {},
     "output_type": "display_data"
    }
   ],
   "source": [
    "#finding top 10 cities with average restaurants rating\n",
    "top10city = avgrating_per_city.head(10)\n",
    "\n",
    "#creating a horizontal bar chart\n",
    "plt.figure(figsize=(8,6))\n",
    "sns.barplot(x=top10city['Average rating'], y=top10city.index, palette = \"Greens_r\" , hue = top10city.index)\n",
    "plt.xlabel('Average rating' , fontsize = 14)\n",
    "plt.ylabel('City' , fontsize = 14)\n",
    "plt.title('Top 10 Cities With Average Restaurant Ratings' , fontsize = 18)\n",
    "\n",
    "# adding data labels\n",
    "for index, value in enumerate(top10city['Average rating']):\n",
    "    plt.text(value, index, f'{value:.1f}', va='center', ha='left', fontsize=10, color='black')\n",
    "    \n",
    "plt.show()"
   ]
  },
  {
   "cell_type": "code",
   "execution_count": null,
   "id": "8470656d-fbbb-4548-b2ad-21c47e362afc",
   "metadata": {},
   "outputs": [],
   "source": []
  }
 ],
 "metadata": {
  "kernelspec": {
   "display_name": "Python 3 (ipykernel)",
   "language": "python",
   "name": "python3"
  },
  "language_info": {
   "codemirror_mode": {
    "name": "ipython",
    "version": 3
   },
   "file_extension": ".py",
   "mimetype": "text/x-python",
   "name": "python",
   "nbconvert_exporter": "python",
   "pygments_lexer": "ipython3",
   "version": "3.12.4"
  }
 },
 "nbformat": 4,
 "nbformat_minor": 5
}
